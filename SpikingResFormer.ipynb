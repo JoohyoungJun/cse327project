{
 "cells": [
  {
   "cell_type": "code",
   "execution_count": null,
   "id": "069b3d00",
   "metadata": {
    "vscode": {
     "languageId": "plaintext"
    }
   },
   "outputs": [],
   "source": [
    "# clone project from github and navigate to the directory\n",
    "!git clone https://github.com/JoohyoungJun/cse327project.git\n",
    "%cd spikingresformer"
   ]
  },
  {
   "cell_type": "code",
   "execution_count": null,
   "id": "f4c98aa3",
   "metadata": {
    "vscode": {
     "languageId": "plaintext"
    }
   },
   "outputs": [],
   "source": [
    "# install packages\n",
    "!pip install torch torchvision timm tensorboard spikingjelly thop\n",
    "!pip install cupy-cuda12x==12.2.0"
   ]
  },
  {
   "cell_type": "code",
   "execution_count": null,
   "id": "2cd697f2",
   "metadata": {
    "vscode": {
     "languageId": "plaintext"
    }
   },
   "outputs": [],
   "source": [
    "# run \n",
    "!python main.py -c configs/direct_training/fashionmnist.yaml --data-path ./data --output-dir ./outputs/fmnist"
   ]
  },
  {
   "cell_type": "code",
   "execution_count": null,
   "id": "50be45d1",
   "metadata": {
    "vscode": {
     "languageId": "plaintext"
    }
   },
   "outputs": [],
   "source": [
    "# If the 'run' cell has an error about numpy, restart session after run this cell\n",
    "# go to the last cell and run after this\n",
    "!pip install numpy==1.23.5 --force-reinstall\n"
   ]
  },
  {
   "cell_type": "code",
   "execution_count": null,
   "id": "08373077",
   "metadata": {
    "vscode": {
     "languageId": "plaintext"
    }
   },
   "outputs": [],
   "source": [
    "# check the cupy version\n",
    "# right version will print: \n",
    "# 'CuPy version: 12.2.0'\n",
    "# 'CuPy test: [0 1 2 3 4 5 6 7 8 9]'\n",
    "import cupy\n",
    "print(\"CuPy version:\", cupy.__version__)\n",
    "x = cupy.arange(10)\n",
    "print(\"CuPy test:\", x)"
   ]
  },
  {
   "cell_type": "code",
   "execution_count": null,
   "id": "e21945f1",
   "metadata": {
    "vscode": {
     "languageId": "plaintext"
    }
   },
   "outputs": [],
   "source": [
    "# step 2 if you have error about numpy\n",
    "%pip uninstall -y jax jaxlib tensorflow\n"
   ]
  }
 ],
 "metadata": {
  "language_info": {
   "name": "python"
  }
 },
 "nbformat": 4,
 "nbformat_minor": 5
}
