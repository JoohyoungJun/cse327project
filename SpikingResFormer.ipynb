{
 "cells": [
  {
   "cell_type": "code",
   "execution_count": null,
   "id": "069b3d00",
   "metadata": {
    "vscode": {
     "languageId": "plaintext"
    }
   },
   "outputs": [],
   "source": [
    "# clone project from github and navigate to the directory\n",
    "!git clone https://github.com/JoohyoungJun/cse327project.git\n",
    "%cd spikingresformer"
   ]
  },
  {
   "cell_type": "code",
   "execution_count": null,
   "id": "f4c98aa3",
   "metadata": {
    "vscode": {
     "languageId": "plaintext"
    }
   },
   "outputs": [],
   "source": [
    "# install packages\n",
    "!pip install torch torchvision timm tensorboard spikingjelly thop\n",
    "!pip install cupy-cuda12x==12.2.0"
   ]
  },
  {
   "cell_type": "code",
   "execution_count": null,
   "id": "2cd697f2",
   "metadata": {
    "vscode": {
     "languageId": "plaintext"
    }
   },
   "outputs": [],
   "source": [
    "# run \n",
    "!python main.py -c configs/direct_training/fashionmnist.yaml --data-path ./data --output-dir ./outputs/fmnist"
   ]
  }
 ],
 "metadata": {
  "language_info": {
   "name": "python"
  }
 },
 "nbformat": 4,
 "nbformat_minor": 5
}
