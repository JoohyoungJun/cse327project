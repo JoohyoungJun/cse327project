{
 "cells": [
  {
   "cell_type": "code",
   "execution_count": null,
   "id": "1fb7fce9",
   "metadata": {
    "vscode": {
     "languageId": "plaintext"
    }
   },
   "outputs": [],
   "source": [
    "# Install packages\n",
    "!pip install torch torchvision tqdm"
   ]
  },
  {
   "cell_type": "code",
   "execution_count": null,
   "id": "a25578cd",
   "metadata": {
    "vscode": {
     "languageId": "plaintext"
    }
   },
   "outputs": [],
   "source": [
    "# Run the code\n",
    "!python cnn.py"
   ]
  },
  {
   "cell_type": "code",
   "execution_count": null,
   "id": "af73a9f6",
   "metadata": {
    "vscode": {
     "languageId": "plaintext"
    }
   },
   "outputs": [],
   "source": []
  }
 ],
 "metadata": {
  "language_info": {
   "name": "python"
  }
 },
 "nbformat": 4,
 "nbformat_minor": 5
}
